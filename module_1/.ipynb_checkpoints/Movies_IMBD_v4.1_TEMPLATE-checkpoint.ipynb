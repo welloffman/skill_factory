{
 "cells": [
  {
   "cell_type": "code",
   "execution_count": 1,
   "metadata": {
    "_cell_guid": "b1076dfc-b9ad-4769-8c92-a6c4dae69d19",
    "_uuid": "8f2839f25d086af736a60e9eeb907d3b93b6e0e5",
    "colab": {},
    "colab_type": "code",
    "id": "U2D2gTdJVp90",
    "scrolled": true
   },
   "outputs": [],
   "source": [
    "import numpy as np\n",
    "import pandas as pd\n",
    "import seaborn as sns\n",
    "import matplotlib.pyplot as plt\n",
    "from collections import Counter\n",
    "from pandas import Series\n",
    "import re"
   ]
  },
  {
   "cell_type": "code",
   "execution_count": 2,
   "metadata": {
    "_cell_guid": "79c7e3d0-c299-4dcb-8224-4455121ee9b0",
    "_uuid": "d629ff2d2480ee46fbb7e2d37f6b5fab8052498a",
    "colab": {},
    "colab_type": "code",
    "id": "oyGfxL3eVp9-"
   },
   "outputs": [
    {
     "data": {
      "text/html": [
       "<div>\n",
       "<style scoped>\n",
       "    .dataframe tbody tr th:only-of-type {\n",
       "        vertical-align: middle;\n",
       "    }\n",
       "\n",
       "    .dataframe tbody tr th {\n",
       "        vertical-align: top;\n",
       "    }\n",
       "\n",
       "    .dataframe thead th {\n",
       "        text-align: right;\n",
       "    }\n",
       "</style>\n",
       "<table border=\"1\" class=\"dataframe\">\n",
       "  <thead>\n",
       "    <tr style=\"text-align: right;\">\n",
       "      <th></th>\n",
       "      <th>imdb_id</th>\n",
       "      <th>budget</th>\n",
       "      <th>revenue</th>\n",
       "      <th>original_title</th>\n",
       "      <th>cast</th>\n",
       "      <th>director</th>\n",
       "      <th>tagline</th>\n",
       "      <th>overview</th>\n",
       "      <th>runtime</th>\n",
       "      <th>genres</th>\n",
       "      <th>production_companies</th>\n",
       "      <th>release_date</th>\n",
       "      <th>vote_average</th>\n",
       "      <th>release_year</th>\n",
       "    </tr>\n",
       "  </thead>\n",
       "  <tbody>\n",
       "    <tr>\n",
       "      <th>20</th>\n",
       "      <td>tt1964418</td>\n",
       "      <td>190000000</td>\n",
       "      <td>209035668</td>\n",
       "      <td>Tomorrowland</td>\n",
       "      <td>Britt Robertson|George Clooney|Raffey Cassidy|...</td>\n",
       "      <td>Brad Bird</td>\n",
       "      <td>Imagine a world where nothing is impossible.</td>\n",
       "      <td>Bound by a shared destiny, a bright, optimisti...</td>\n",
       "      <td>130</td>\n",
       "      <td>Action|Family|Science Fiction|Adventure|Mystery</td>\n",
       "      <td>Walt Disney Pictures|Babieka|A113</td>\n",
       "      <td>5/19/2015</td>\n",
       "      <td>6.2</td>\n",
       "      <td>2015</td>\n",
       "    </tr>\n",
       "    <tr>\n",
       "      <th>1088</th>\n",
       "      <td>tt0315327</td>\n",
       "      <td>80000000</td>\n",
       "      <td>484572835</td>\n",
       "      <td>Bruce Almighty</td>\n",
       "      <td>Jim Carrey|Jennifer Aniston|Philip Baker Hall|...</td>\n",
       "      <td>Tom Shadyac</td>\n",
       "      <td>In Bruce we trust</td>\n",
       "      <td>Bruce Nolan toils as a \"human interest\" televi...</td>\n",
       "      <td>101</td>\n",
       "      <td>Fantasy|Comedy</td>\n",
       "      <td>Universal Pictures|Spyglass Entertainment|Shad...</td>\n",
       "      <td>5/23/2003</td>\n",
       "      <td>6.3</td>\n",
       "      <td>2003</td>\n",
       "    </tr>\n",
       "    <tr>\n",
       "      <th>1428</th>\n",
       "      <td>tt0395972</td>\n",
       "      <td>35000000</td>\n",
       "      <td>25224242</td>\n",
       "      <td>North Country</td>\n",
       "      <td>Charlize Theron|Elle Peterson|Thomas Curtis|Fr...</td>\n",
       "      <td>Niki Caro</td>\n",
       "      <td>All She Wanted Was To Make A Living. Instead S...</td>\n",
       "      <td>A fictionalized account of the first major suc...</td>\n",
       "      <td>126</td>\n",
       "      <td>Drama</td>\n",
       "      <td>Warner Bros.|Participant Media|Nick Wechsler P...</td>\n",
       "      <td>2/12/2005</td>\n",
       "      <td>6.8</td>\n",
       "      <td>2005</td>\n",
       "    </tr>\n",
       "    <tr>\n",
       "      <th>1347</th>\n",
       "      <td>tt0357277</td>\n",
       "      <td>43000000</td>\n",
       "      <td>56681566</td>\n",
       "      <td>Elektra</td>\n",
       "      <td>Jennifer Garner|Goran Visnjic|Will Yun Lee|Car...</td>\n",
       "      <td>Rob Bowman</td>\n",
       "      <td>Looks can kill</td>\n",
       "      <td>Elektra the warrior survives a near-death expe...</td>\n",
       "      <td>97</td>\n",
       "      <td>Action</td>\n",
       "      <td>Twentieth Century Fox Film Corporation|Regency...</td>\n",
       "      <td>1/13/2005</td>\n",
       "      <td>5.0</td>\n",
       "      <td>2005</td>\n",
       "    </tr>\n",
       "    <tr>\n",
       "      <th>1041</th>\n",
       "      <td>tt1142977</td>\n",
       "      <td>39000000</td>\n",
       "      <td>81491068</td>\n",
       "      <td>Frankenweenie</td>\n",
       "      <td>Charlie Tahan|Winona Ryder|Catherine O'Hara|Ma...</td>\n",
       "      <td>Tim Burton</td>\n",
       "      <td>The electrifying dog is back from beyond the g...</td>\n",
       "      <td>Young Victor conducts a science experiment to ...</td>\n",
       "      <td>87</td>\n",
       "      <td>Animation|Comedy|Family</td>\n",
       "      <td>Walt Disney Pictures|Tim Burton Animation Comp...</td>\n",
       "      <td>10/4/2012</td>\n",
       "      <td>6.5</td>\n",
       "      <td>2012</td>\n",
       "    </tr>\n",
       "  </tbody>\n",
       "</table>\n",
       "</div>"
      ],
      "text/plain": [
       "        imdb_id     budget    revenue  original_title  \\\n",
       "20    tt1964418  190000000  209035668    Tomorrowland   \n",
       "1088  tt0315327   80000000  484572835  Bruce Almighty   \n",
       "1428  tt0395972   35000000   25224242   North Country   \n",
       "1347  tt0357277   43000000   56681566         Elektra   \n",
       "1041  tt1142977   39000000   81491068   Frankenweenie   \n",
       "\n",
       "                                                   cast     director  \\\n",
       "20    Britt Robertson|George Clooney|Raffey Cassidy|...    Brad Bird   \n",
       "1088  Jim Carrey|Jennifer Aniston|Philip Baker Hall|...  Tom Shadyac   \n",
       "1428  Charlize Theron|Elle Peterson|Thomas Curtis|Fr...    Niki Caro   \n",
       "1347  Jennifer Garner|Goran Visnjic|Will Yun Lee|Car...   Rob Bowman   \n",
       "1041  Charlie Tahan|Winona Ryder|Catherine O'Hara|Ma...   Tim Burton   \n",
       "\n",
       "                                                tagline  \\\n",
       "20         Imagine a world where nothing is impossible.   \n",
       "1088                                  In Bruce we trust   \n",
       "1428  All She Wanted Was To Make A Living. Instead S...   \n",
       "1347                                     Looks can kill   \n",
       "1041  The electrifying dog is back from beyond the g...   \n",
       "\n",
       "                                               overview  runtime  \\\n",
       "20    Bound by a shared destiny, a bright, optimisti...      130   \n",
       "1088  Bruce Nolan toils as a \"human interest\" televi...      101   \n",
       "1428  A fictionalized account of the first major suc...      126   \n",
       "1347  Elektra the warrior survives a near-death expe...       97   \n",
       "1041  Young Victor conducts a science experiment to ...       87   \n",
       "\n",
       "                                               genres  \\\n",
       "20    Action|Family|Science Fiction|Adventure|Mystery   \n",
       "1088                                   Fantasy|Comedy   \n",
       "1428                                            Drama   \n",
       "1347                                           Action   \n",
       "1041                          Animation|Comedy|Family   \n",
       "\n",
       "                                   production_companies release_date  \\\n",
       "20                    Walt Disney Pictures|Babieka|A113    5/19/2015   \n",
       "1088  Universal Pictures|Spyglass Entertainment|Shad...    5/23/2003   \n",
       "1428  Warner Bros.|Participant Media|Nick Wechsler P...    2/12/2005   \n",
       "1347  Twentieth Century Fox Film Corporation|Regency...    1/13/2005   \n",
       "1041  Walt Disney Pictures|Tim Burton Animation Comp...    10/4/2012   \n",
       "\n",
       "      vote_average  release_year  \n",
       "20             6.2          2015  \n",
       "1088           6.3          2003  \n",
       "1428           6.8          2005  \n",
       "1347           5.0          2005  \n",
       "1041           6.5          2012  "
      ]
     },
     "execution_count": 2,
     "metadata": {},
     "output_type": "execute_result"
    }
   ],
   "source": [
    "data = pd.read_csv('movie_bd_v5.csv')\n",
    "data.sample(5)"
   ]
  },
  {
   "cell_type": "code",
   "execution_count": 3,
   "metadata": {
    "colab": {},
    "colab_type": "code",
    "id": "CoYUnagMVp-C"
   },
   "outputs": [],
   "source": [
    "# data.describe()"
   ]
  },
  {
   "cell_type": "markdown",
   "metadata": {
    "colab_type": "text",
    "id": "DTIt7ezGVp-G"
   },
   "source": [
    "# Предобработка"
   ]
  },
  {
   "cell_type": "code",
   "execution_count": 4,
   "metadata": {
    "colab": {},
    "colab_type": "code",
    "id": "jNb40DwKVp-H"
   },
   "outputs": [],
   "source": [
    "answers = {} # создадим словарь для ответов\n",
    "\n",
    "data['profit'] = data['revenue'] - data['budget']\n",
    "\n",
    "s = data.release_date.apply(lambda x:x.split(\"/\")[0])\n",
    "s.name = 'month'\n",
    "data = data.join(s)\n",
    "\n",
    "def expand_filed(df, source_field, new_field):\n",
    "\ts = df[source_field].str.split('|').apply(Series, 1).stack()\n",
    "\ts.index = s.index.droplevel(-1)\n",
    "\ts.name = new_field\n",
    "\treturn df.join(s)\n"
   ]
  },
  {
   "cell_type": "markdown",
   "metadata": {
    "colab_type": "text",
    "id": "YxZaH-nPVp-L"
   },
   "source": [
    "# 1. У какого фильма из списка самый большой бюджет?"
   ]
  },
  {
   "cell_type": "markdown",
   "metadata": {
    "colab_type": "text",
    "id": "Nd-G5gX6Vp-M"
   },
   "source": [
    "Использовать варианты ответов в коде решения запрещено.    \n",
    "Вы думаете и в жизни у вас будут варианты ответов?)"
   ]
  },
  {
   "cell_type": "code",
   "execution_count": 5,
   "metadata": {
    "colab": {},
    "colab_type": "code",
    "id": "uVnXAY5RVp-O"
   },
   "outputs": [],
   "source": [
    "# в словарь вставляем номер вопроса и ваш ответ на него\n",
    "# Пример: \n",
    "answers['1'] = '2. Spider-Man 3 (tt0413300)'\n",
    "# запишите свой вариант ответа\n",
    "answers['1'] = 'Pirates of the Caribbean: On Stranger Tides (tt1298650)'\n",
    "# +"
   ]
  },
  {
   "cell_type": "code",
   "execution_count": 6,
   "metadata": {
    "colab": {},
    "colab_type": "code",
    "id": "dZwb3m28Vp-S"
   },
   "outputs": [
    {
     "name": "stdout",
     "output_type": "stream",
     "text": [
      "Pirates of the Caribbean: On Stranger Tides tt1298650\n"
     ]
    }
   ],
   "source": [
    "df = data.sort_values(by='budget', ascending=False)\n",
    "row = df.iloc[0]\n",
    "print(row.original_title, row.imdb_id)"
   ]
  },
  {
   "cell_type": "markdown",
   "metadata": {
    "colab_type": "text",
    "id": "K7L3nbRXVp-X"
   },
   "source": [
    "ВАРИАНТ 2"
   ]
  },
  {
   "cell_type": "code",
   "execution_count": 7,
   "metadata": {
    "colab": {},
    "colab_type": "code",
    "id": "OGaoQI7rVp-X"
   },
   "outputs": [],
   "source": [
    "# можно добавлять разные варианты решения"
   ]
  },
  {
   "cell_type": "markdown",
   "metadata": {
    "colab_type": "text",
    "id": "FNRbbI3vVp-c"
   },
   "source": [
    "# 2. Какой из фильмов самый длительный (в минутах)?"
   ]
  },
  {
   "cell_type": "code",
   "execution_count": 8,
   "metadata": {
    "colab": {},
    "colab_type": "code",
    "id": "vHAoEXNTVp-d"
   },
   "outputs": [],
   "source": [
    "# думаю логику работы с этим словарем вы уже поняли, \n",
    "# по этому не буду больше его дублировать\n",
    "answers['2'] = 'Gods and Generals (tt0279111)'\n",
    "# +"
   ]
  },
  {
   "cell_type": "code",
   "execution_count": 9,
   "metadata": {
    "colab": {},
    "colab_type": "code",
    "id": "ot-VX2XrVp-g"
   },
   "outputs": [
    {
     "name": "stdout",
     "output_type": "stream",
     "text": [
      "Gods and Generals (tt0279111)\n"
     ]
    }
   ],
   "source": [
    "df = data.sort_values(by='runtime', ascending=False)\n",
    "row = df.iloc[0]\n",
    "print(row.original_title, f'({row.imdb_id})')"
   ]
  },
  {
   "cell_type": "markdown",
   "metadata": {
    "colab_type": "text",
    "id": "bapLlpW8Vp-k"
   },
   "source": [
    "# 3. Какой из фильмов самый короткий (в минутах)?\n",
    "\n",
    "\n",
    "\n"
   ]
  },
  {
   "cell_type": "code",
   "execution_count": 10,
   "metadata": {
    "colab": {},
    "colab_type": "code",
    "id": "YBxaSHuAVp-l"
   },
   "outputs": [],
   "source": [
    "answers['3'] = 'Winnie the Pooh (tt1449283)'\n",
    "# +"
   ]
  },
  {
   "cell_type": "code",
   "execution_count": 11,
   "metadata": {},
   "outputs": [
    {
     "name": "stdout",
     "output_type": "stream",
     "text": [
      "Winnie the Pooh (tt1449283)\n"
     ]
    }
   ],
   "source": [
    "df = data.sort_values(by='runtime')\n",
    "row = df.iloc[0]\n",
    "print(row.original_title, f'({row.imdb_id})')"
   ]
  },
  {
   "cell_type": "markdown",
   "metadata": {
    "colab_type": "text",
    "id": "TfQbxbfNVp-p"
   },
   "source": [
    "# 4. Какова средняя длительность фильмов?\n"
   ]
  },
  {
   "cell_type": "code",
   "execution_count": 12,
   "metadata": {
    "colab": {},
    "colab_type": "code",
    "id": "5K6dKZYVVp-q"
   },
   "outputs": [],
   "source": [
    "answers['4'] = '110'\n",
    "# +"
   ]
  },
  {
   "cell_type": "code",
   "execution_count": 13,
   "metadata": {},
   "outputs": [
    {
     "name": "stdout",
     "output_type": "stream",
     "text": [
      "110\n"
     ]
    }
   ],
   "source": [
    "print( round(data['runtime'].mean()) )"
   ]
  },
  {
   "cell_type": "markdown",
   "metadata": {
    "colab_type": "text",
    "id": "r5TvbnT_Vp-u"
   },
   "source": [
    "# 5. Каково медианное значение длительности фильмов? "
   ]
  },
  {
   "cell_type": "code",
   "execution_count": 14,
   "metadata": {
    "colab": {},
    "colab_type": "code",
    "id": "iBROplKnVp-v"
   },
   "outputs": [],
   "source": [
    "answers['5'] = '107'\n",
    "# +"
   ]
  },
  {
   "cell_type": "code",
   "execution_count": 15,
   "metadata": {},
   "outputs": [
    {
     "name": "stdout",
     "output_type": "stream",
     "text": [
      "107\n"
     ]
    }
   ],
   "source": [
    "print( round(data['runtime'].median()) )"
   ]
  },
  {
   "cell_type": "markdown",
   "metadata": {
    "colab_type": "text",
    "id": "39P-deDSVp-y"
   },
   "source": [
    "# 6. Какой самый прибыльный фильм?\n",
    "#### Внимание! Здесь и далее под «прибылью» или «убытками» понимается разность между сборами и бюджетом фильма. (прибыль = сборы - бюджет) в нашем датасете это будет (profit = revenue - budget) "
   ]
  },
  {
   "cell_type": "code",
   "execution_count": 16,
   "metadata": {
    "colab": {},
    "colab_type": "code",
    "id": "UYZh4T9WVp-y"
   },
   "outputs": [],
   "source": [
    "answers['6'] = 'Avatar (tt0499549)'\n",
    "# +"
   ]
  },
  {
   "cell_type": "code",
   "execution_count": 17,
   "metadata": {},
   "outputs": [
    {
     "name": "stdout",
     "output_type": "stream",
     "text": [
      "Avatar (tt0499549)\n"
     ]
    }
   ],
   "source": [
    "df = data.sort_values(by='profit', ascending=False)\n",
    "row = df.iloc[0]\n",
    "print(row.original_title, f'({row.imdb_id})')"
   ]
  },
  {
   "cell_type": "markdown",
   "metadata": {
    "colab_type": "text",
    "id": "M99JmIX4Vp-2"
   },
   "source": [
    "# 7. Какой фильм самый убыточный? "
   ]
  },
  {
   "cell_type": "code",
   "execution_count": 18,
   "metadata": {
    "colab": {},
    "colab_type": "code",
    "id": "w-D2m4XPVp-3"
   },
   "outputs": [],
   "source": [
    "answers['7'] = 'The Lone Ranger (tt1210819)'\n",
    "# +"
   ]
  },
  {
   "cell_type": "code",
   "execution_count": 19,
   "metadata": {},
   "outputs": [
    {
     "name": "stdout",
     "output_type": "stream",
     "text": [
      "The Lone Ranger (tt1210819)\n"
     ]
    }
   ],
   "source": [
    "df = data.sort_values(by='profit')\n",
    "row = df.iloc[0]\n",
    "print(row.original_title, f'({row.imdb_id})')"
   ]
  },
  {
   "cell_type": "markdown",
   "metadata": {
    "colab_type": "text",
    "id": "wEOM5ERVVp-6"
   },
   "source": [
    "# 8. У скольких фильмов из датасета объем сборов оказался выше бюджета?"
   ]
  },
  {
   "cell_type": "code",
   "execution_count": 20,
   "metadata": {
    "colab": {},
    "colab_type": "code",
    "id": "y00_7HD6Vp-7"
   },
   "outputs": [],
   "source": [
    "answers['8'] = '1478'\n",
    "# +"
   ]
  },
  {
   "cell_type": "code",
   "execution_count": 21,
   "metadata": {},
   "outputs": [
    {
     "name": "stdout",
     "output_type": "stream",
     "text": [
      "1478\n"
     ]
    }
   ],
   "source": [
    "df = data.loc[data['revenue'] > data['budget']]\n",
    "print(len(df.imdb_id))"
   ]
  },
  {
   "cell_type": "markdown",
   "metadata": {
    "colab_type": "text",
    "id": "xhpspA9KVp_A"
   },
   "source": [
    "# 9. Какой фильм оказался самым кассовым в 2008 году?"
   ]
  },
  {
   "cell_type": "code",
   "execution_count": 22,
   "metadata": {
    "colab": {},
    "colab_type": "code",
    "id": "MoUyQr9RVp_B"
   },
   "outputs": [],
   "source": [
    "answers['9'] = 'The Dark Knight (tt0468569)'\n",
    "# +"
   ]
  },
  {
   "cell_type": "code",
   "execution_count": 23,
   "metadata": {},
   "outputs": [
    {
     "name": "stdout",
     "output_type": "stream",
     "text": [
      "The Dark Knight (tt0468569)\n"
     ]
    }
   ],
   "source": [
    "df = data.query('release_year == 2008').sort_values(by='revenue', ascending=False)\n",
    "row = df.iloc[0]\n",
    "print(row.original_title, f'({row.imdb_id})')"
   ]
  },
  {
   "cell_type": "markdown",
   "metadata": {
    "colab_type": "text",
    "id": "Zi4hDKidVp_F"
   },
   "source": [
    "# 10. Самый убыточный фильм за период с 2012 по 2014 г. (включительно)?\n"
   ]
  },
  {
   "cell_type": "code",
   "execution_count": 24,
   "metadata": {
    "colab": {},
    "colab_type": "code",
    "id": "XqyRmufJVp_F"
   },
   "outputs": [],
   "source": [
    "answers['10'] = 'The Lone Ranger (tt1210819)'\n",
    "# +"
   ]
  },
  {
   "cell_type": "code",
   "execution_count": 25,
   "metadata": {},
   "outputs": [
    {
     "name": "stdout",
     "output_type": "stream",
     "text": [
      "The Lone Ranger (tt1210819)\n"
     ]
    }
   ],
   "source": [
    "df = data[(data.release_year>=2012) & (data.release_year<=2014)].sort_values(by='profit')\n",
    "row = df.iloc[0]\n",
    "print(row.original_title, f'({row.imdb_id})')"
   ]
  },
  {
   "cell_type": "markdown",
   "metadata": {
    "colab_type": "text",
    "id": "EA7Sa9dkVp_I"
   },
   "source": [
    "# 11. Какого жанра фильмов больше всего?"
   ]
  },
  {
   "cell_type": "code",
   "execution_count": 26,
   "metadata": {
    "colab": {},
    "colab_type": "code",
    "id": "zsJAwJ8QVp_J"
   },
   "outputs": [],
   "source": [
    "answers['11'] = 'Drama'\n",
    "# +"
   ]
  },
  {
   "cell_type": "code",
   "execution_count": 27,
   "metadata": {},
   "outputs": [
    {
     "name": "stdout",
     "output_type": "stream",
     "text": [
      "Drama\n"
     ]
    }
   ],
   "source": [
    "s = data['genres'].str.split('|').apply(Series, 1).stack()\n",
    "print( s.value_counts().index[0] )"
   ]
  },
  {
   "cell_type": "markdown",
   "metadata": {
    "colab_type": "text",
    "id": "Ax6g2C8SVp_M"
   },
   "source": [
    "ВАРИАНТ 2"
   ]
  },
  {
   "cell_type": "code",
   "execution_count": null,
   "metadata": {
    "colab": {},
    "colab_type": "code",
    "id": "otO3SbrSVp_N"
   },
   "outputs": [],
   "source": []
  },
  {
   "cell_type": "markdown",
   "metadata": {
    "colab_type": "text",
    "id": "T9_bPWpkVp_Q"
   },
   "source": [
    "# 12. Фильмы какого жанра чаще всего становятся прибыльными? "
   ]
  },
  {
   "cell_type": "code",
   "execution_count": 28,
   "metadata": {
    "colab": {},
    "colab_type": "code",
    "id": "Tmt8MaK1Vp_R"
   },
   "outputs": [],
   "source": [
    "answers['12'] = 'Drama'\n",
    "# +"
   ]
  },
  {
   "cell_type": "code",
   "execution_count": 29,
   "metadata": {},
   "outputs": [
    {
     "name": "stdout",
     "output_type": "stream",
     "text": [
      "genre\n",
      "Drama              560\n",
      "Comedy             551\n",
      "Thriller           446\n",
      "Action             444\n",
      "Adventure          337\n",
      "Romance            242\n",
      "Crime              231\n",
      "Family             226\n",
      "Science Fiction    195\n",
      "Fantasy            188\n",
      "Horror             150\n",
      "Animation          120\n",
      "Mystery            119\n",
      "Music               47\n",
      "History             46\n",
      "War                 41\n",
      "Western             12\n",
      "Documentary          7\n",
      "Name: profit, dtype: int64\n"
     ]
    }
   ],
   "source": [
    "df = expand_filed(data, 'genres', 'genre')\n",
    "groupped = df[df.profit>0].groupby(['genre'])['profit'].count().sort_values(ascending=False)\n",
    "print(groupped)"
   ]
  },
  {
   "cell_type": "markdown",
   "metadata": {
    "colab_type": "text",
    "id": "0F23bgsDVp_U"
   },
   "source": [
    "# 13. У какого режиссера самые большие суммарные кассовые сборы?"
   ]
  },
  {
   "cell_type": "code",
   "execution_count": 30,
   "metadata": {
    "colab": {},
    "colab_type": "code",
    "id": "K6Z3J8ygVp_X"
   },
   "outputs": [],
   "source": [
    "answers['13'] = 'Peter Jackson'\n",
    "# +"
   ]
  },
  {
   "cell_type": "code",
   "execution_count": 31,
   "metadata": {},
   "outputs": [
    {
     "name": "stdout",
     "output_type": "stream",
     "text": [
      "director\n",
      "Peter Jackson                                17464735681\n",
      "Christopher Nolan                            16196885522\n",
      "Andrew Adamson|Kelly Asbury|Conrad Vernon    13797581370\n",
      "David Yates                                  13401099613\n",
      "J.J. Abrams                                  12805687973\n",
      "                                                ...     \n",
      "David MichÃ´d                                    4590846\n",
      "Paul Schrader                                    4124132\n",
      "Keanu Reeves                                     4109882\n",
      "Don McKellar                                     3430018\n",
      "Susanne Bier                                     2849142\n",
      "Name: revenue, Length: 957, dtype: int64\n"
     ]
    }
   ],
   "source": [
    "df = expand_filed(data, 'genres', 'genre')\n",
    "df = expand_filed(df, 'director', 'director_single')\n",
    "df.drop_duplicates(subset = ['imdb_id', 'genre', 'director_single'], keep = 'first', inplace = True)\n",
    "groupped = df.groupby(['director'])['revenue'].sum().sort_values(ascending=False)\n",
    "print(groupped)"
   ]
  },
  {
   "cell_type": "markdown",
   "metadata": {
    "colab_type": "text",
    "id": "PsYC9FgRVp_a"
   },
   "source": [
    "# 14. Какой режисер снял больше всего фильмов в стиле Action?"
   ]
  },
  {
   "cell_type": "code",
   "execution_count": 32,
   "metadata": {
    "colab": {},
    "colab_type": "code",
    "id": "wd2M-wHeVp_b"
   },
   "outputs": [],
   "source": [
    "answers['14'] = 'Robert Rodriguez'\n",
    "# +"
   ]
  },
  {
   "cell_type": "code",
   "execution_count": 33,
   "metadata": {},
   "outputs": [
    {
     "name": "stdout",
     "output_type": "stream",
     "text": [
      "director_single\n",
      "Robert Rodriguez      9\n",
      "Michael Bay           7\n",
      "Paul W.S. Anderson    7\n",
      "Ridley Scott          6\n",
      "Antoine Fuqua         6\n",
      "                     ..\n",
      "John Whitesell        1\n",
      "Brian A Miller        1\n",
      "Jon Amiel             1\n",
      "Jon Avnet             1\n",
      "Luis Mandoki          1\n",
      "Name: genre, Length: 364, dtype: int64\n"
     ]
    }
   ],
   "source": [
    "df = expand_filed(data, 'genres', 'genre')\n",
    "df = expand_filed(df, 'director', 'director_single')\n",
    "df.drop_duplicates(subset = ['imdb_id', 'genre', 'director_single'], keep = 'first', inplace = True)\n",
    "groupped = df[df.genre=='Action'].groupby(['director_single'])['genre'].count().sort_values(ascending=False)\n",
    "print(groupped)"
   ]
  },
  {
   "cell_type": "markdown",
   "metadata": {
    "colab_type": "text",
    "id": "PQ0KciD7Vp_f"
   },
   "source": [
    "# 15. Фильмы с каким актером принесли самые высокие кассовые сборы в 2012 году? "
   ]
  },
  {
   "cell_type": "code",
   "execution_count": 34,
   "metadata": {
    "colab": {},
    "colab_type": "code",
    "id": "aga62oeKVp_g"
   },
   "outputs": [],
   "source": [
    "answers['15'] = 'Chris Hemsworth'\n",
    "# +"
   ]
  },
  {
   "cell_type": "code",
   "execution_count": 35,
   "metadata": {},
   "outputs": [
    {
     "name": "stdout",
     "output_type": "stream",
     "text": [
      "actor\n",
      "Chris Hemsworth      2027450773\n",
      "Denis Leary          1629460639\n",
      "Anne Hathaway        1522851057\n",
      "Robert Downey Jr.    1519557910\n",
      "Mark Ruffalo         1519557910\n",
      "                        ...    \n",
      "Michael Nyqvist         3428048\n",
      "Danny Huston            2106557\n",
      "Josh Lucas              2106557\n",
      "Sami Gayle              2106557\n",
      "Nicolas Cage            2106557\n",
      "Name: revenue, Length: 466, dtype: int64\n"
     ]
    }
   ],
   "source": [
    "df = expand_filed(data, 'cast', 'actor')\n",
    "groupped = df[df.release_year==2012].groupby(['actor'])['revenue'].sum().sort_values(ascending=False)\n",
    "print(groupped)"
   ]
  },
  {
   "cell_type": "markdown",
   "metadata": {
    "colab_type": "text",
    "id": "mWHyyL7QVp_j"
   },
   "source": [
    "# 16. Какой актер снялся в большем количестве высокобюджетных фильмов?"
   ]
  },
  {
   "cell_type": "code",
   "execution_count": 36,
   "metadata": {
    "colab": {},
    "colab_type": "code",
    "id": "qQtmHKTFVp_k"
   },
   "outputs": [],
   "source": [
    "answers['16'] = 'Matt Damon'\n",
    "# +"
   ]
  },
  {
   "cell_type": "code",
   "execution_count": 37,
   "metadata": {},
   "outputs": [
    {
     "name": "stdout",
     "output_type": "stream",
     "text": [
      "actor\n",
      "Matt Damon                 18\n",
      "Adam Sandler               17\n",
      "Angelina Jolie             16\n",
      "Tom Cruise                 15\n",
      "Eddie Murphy               15\n",
      "                           ..\n",
      "Jennifer Hudson             1\n",
      "Jennifer Jason Leigh        1\n",
      "Jennifer Saunders           1\n",
      "Jennifer Tilly              1\n",
      "Ã“lafur Darri Ã“lafsson     1\n",
      "Name: imdb_id, Length: 1505, dtype: int64\n"
     ]
    }
   ],
   "source": [
    "mean_budget = data['budget'].mean()\n",
    "df = expand_filed(data, 'cast', 'actor')\n",
    "groupped = df[df.budget > mean_budget].groupby(['actor'])['imdb_id'].count().sort_values(ascending=False)\n",
    "print(groupped)"
   ]
  },
  {
   "cell_type": "markdown",
   "metadata": {
    "colab_type": "text",
    "id": "NIh6AaW5Vp_n"
   },
   "source": [
    "# 17. В фильмах какого жанра больше всего снимался Nicolas Cage? "
   ]
  },
  {
   "cell_type": "code",
   "execution_count": 38,
   "metadata": {
    "colab": {},
    "colab_type": "code",
    "id": "H74SJDIBVp_n"
   },
   "outputs": [],
   "source": [
    "answers['17'] = 'Action'\n",
    "# +"
   ]
  },
  {
   "cell_type": "code",
   "execution_count": 39,
   "metadata": {},
   "outputs": [
    {
     "name": "stdout",
     "output_type": "stream",
     "text": [
      "genre\n",
      "Action             17\n",
      "Thriller           15\n",
      "Drama              12\n",
      "Crime              10\n",
      "Fantasy             8\n",
      "Adventure           7\n",
      "Comedy              6\n",
      "Science Fiction     4\n",
      "Animation           3\n",
      "Family              3\n",
      "Mystery             3\n",
      "History             2\n",
      "Horror              1\n",
      "Romance             1\n",
      "War                 1\n",
      "Name: imdb_id, dtype: int64\n"
     ]
    }
   ],
   "source": [
    "df = expand_filed(data, 'genres', 'genre')\n",
    "df = expand_filed(df, 'cast', 'actor')\n",
    "df.drop_duplicates(subset = ['imdb_id', 'genre', 'actor'], keep = 'first', inplace = True)\n",
    "groupped = df[df.actor=='Nicolas Cage'].groupby(['genre'])['imdb_id'].count().sort_values(ascending=False)\n",
    "print(groupped)"
   ]
  },
  {
   "cell_type": "markdown",
   "metadata": {
    "colab_type": "text",
    "id": "RqOmPRfWVp_q"
   },
   "source": [
    "# 18. Самый убыточный фильм от Paramount Pictures"
   ]
  },
  {
   "cell_type": "code",
   "execution_count": 40,
   "metadata": {
    "colab": {},
    "colab_type": "code",
    "id": "9E_B0Y96Vp_r"
   },
   "outputs": [],
   "source": [
    "answers['18'] = 'K-19: The Widowmaker (tt0267626)'\n",
    "# +"
   ]
  },
  {
   "cell_type": "code",
   "execution_count": 41,
   "metadata": {},
   "outputs": [
    {
     "name": "stdout",
     "output_type": "stream",
     "text": [
      "K-19: The Widowmaker (tt0267626)\n"
     ]
    }
   ],
   "source": [
    "df = expand_filed(data, 'production_companies', 'company')\n",
    "result = df[df.company=='Paramount Pictures'].sort_values(by='profit')\n",
    "row = result.iloc[0]\n",
    "print(row.original_title, f'({row.imdb_id})')"
   ]
  },
  {
   "cell_type": "markdown",
   "metadata": {
    "colab_type": "text",
    "id": "vS8Ur6ddVp_u"
   },
   "source": [
    "# 19. Какой год стал самым успешным по суммарным кассовым сборам?"
   ]
  },
  {
   "cell_type": "code",
   "execution_count": 42,
   "metadata": {
    "colab": {},
    "colab_type": "code",
    "id": "Dnbt4GdIVp_v"
   },
   "outputs": [],
   "source": [
    "answers['19'] = '2015'\n",
    "# +"
   ]
  },
  {
   "cell_type": "code",
   "execution_count": 43,
   "metadata": {},
   "outputs": [
    {
     "name": "stdout",
     "output_type": "stream",
     "text": [
      "release_year\n",
      "2015    25449202382\n",
      "2014    23405862953\n",
      "2013    23213799791\n",
      "2012    23079001687\n",
      "2011    22676791872\n",
      "2010    21071204961\n",
      "2009    20261791024\n",
      "2008    18252781990\n",
      "2007    18162406801\n",
      "2004    15663430720\n",
      "2005    15309425558\n",
      "2006    14775042320\n",
      "2003    14346123312\n",
      "2002    14136361487\n",
      "2001    13017764865\n",
      "2000    10664099805\n",
      "Name: revenue, dtype: int64\n"
     ]
    }
   ],
   "source": [
    "groupped = data.groupby(['release_year'])['revenue'].sum().sort_values(ascending=False)\n",
    "print(groupped)"
   ]
  },
  {
   "cell_type": "markdown",
   "metadata": {
    "colab_type": "text",
    "id": "JAzJh4QAVp_z"
   },
   "source": [
    "# 20. Какой самый прибыльный год для студии Warner Bros?"
   ]
  },
  {
   "cell_type": "code",
   "execution_count": 44,
   "metadata": {
    "colab": {},
    "colab_type": "code",
    "id": "wgVu02DEVp_0"
   },
   "outputs": [],
   "source": [
    "answers['20'] = '2014'\n",
    "# +"
   ]
  },
  {
   "cell_type": "code",
   "execution_count": 45,
   "metadata": {},
   "outputs": [
    {
     "name": "stdout",
     "output_type": "stream",
     "text": [
      "release_year\n",
      "2014    2292949646\n",
      "2007    2201675217\n",
      "2008    2134595031\n",
      "2010    1974712985\n",
      "2011    1871393682\n",
      "2003    1844008221\n",
      "2009    1822454136\n",
      "2013    1636453400\n",
      "2004    1631933725\n",
      "2005    1551980298\n",
      "2001    1282142579\n",
      "2012    1258020056\n",
      "2002    1022709901\n",
      "2015     870368348\n",
      "2006     625351872\n",
      "2000     452631386\n",
      "Name: profit, dtype: int64\n"
     ]
    }
   ],
   "source": [
    "df = expand_filed(data, 'production_companies', 'company')\n",
    "groupped = df[df.company.str.match(\"Warner Bros\", na=False)].groupby(['release_year'])['profit'].sum().sort_values(ascending=False)\n",
    "print(groupped)"
   ]
  },
  {
   "cell_type": "markdown",
   "metadata": {
    "colab_type": "text",
    "id": "8Im1S2HRVp_4"
   },
   "source": [
    "# 21. В каком месяце за все годы суммарно вышло больше всего фильмов?"
   ]
  },
  {
   "cell_type": "code",
   "execution_count": 46,
   "metadata": {
    "colab": {},
    "colab_type": "code",
    "id": "lev6TH7gVp_4"
   },
   "outputs": [],
   "source": [
    "answers['21'] = 'Сентябрь'\n",
    "# +"
   ]
  },
  {
   "cell_type": "code",
   "execution_count": 47,
   "metadata": {},
   "outputs": [
    {
     "name": "stdout",
     "output_type": "stream",
     "text": [
      "month\n",
      "9     227\n",
      "12    190\n",
      "10    186\n",
      "8     161\n",
      "3     156\n",
      "4     149\n",
      "6     147\n",
      "11    146\n",
      "7     142\n",
      "5     140\n",
      "2     135\n",
      "1     110\n",
      "Name: imdb_id, dtype: int64\n"
     ]
    }
   ],
   "source": [
    "groupped = data.groupby(['month'])['imdb_id'].count().sort_values(ascending=False)\n",
    "print(groupped)"
   ]
  },
  {
   "cell_type": "markdown",
   "metadata": {
    "colab_type": "text",
    "id": "uAJsZ_NeVp_7"
   },
   "source": [
    "# 22. Сколько суммарно вышло фильмов летом? (за июнь, июль, август)"
   ]
  },
  {
   "cell_type": "code",
   "execution_count": 48,
   "metadata": {
    "colab": {},
    "colab_type": "code",
    "id": "Aa-hEREoVp_8"
   },
   "outputs": [],
   "source": [
    "answers['22'] = '450'\n",
    "# +"
   ]
  },
  {
   "cell_type": "code",
   "execution_count": 49,
   "metadata": {},
   "outputs": [
    {
     "name": "stdout",
     "output_type": "stream",
     "text": [
      "450\n"
     ]
    }
   ],
   "source": [
    "groupped = data.query('month in [\"6\",\"7\",\"8\"]').groupby(['month'])['imdb_id'].count().sort_values(ascending=False)\n",
    "print(groupped.sum())"
   ]
  },
  {
   "cell_type": "markdown",
   "metadata": {
    "colab_type": "text",
    "id": "G94ppOY1VqAA"
   },
   "source": [
    "# 23. Для какого режиссера зима – самое продуктивное время года? "
   ]
  },
  {
   "cell_type": "code",
   "execution_count": 50,
   "metadata": {
    "colab": {},
    "colab_type": "code",
    "id": "RhNTsamuVqAB"
   },
   "outputs": [],
   "source": [
    "answers['23'] = 'Peter Jackson'\n",
    "# +"
   ]
  },
  {
   "cell_type": "code",
   "execution_count": 51,
   "metadata": {},
   "outputs": [
    {
     "name": "stdout",
     "output_type": "stream",
     "text": [
      "director_single\n",
      "Peter Jackson        7\n",
      "Steven Soderbergh    6\n",
      "Clint Eastwood       6\n",
      "Shawn Levy           4\n",
      "Adam Shankman        4\n",
      "                    ..\n",
      "John Luessenhop      1\n",
      "John Musker          1\n",
      "John Polson          1\n",
      "Callan Brunker       1\n",
      "Xavier Palud         1\n",
      "Name: imdb_id, Length: 358, dtype: int64\n"
     ]
    }
   ],
   "source": [
    "df = expand_filed(data, 'director', 'director_single')\n",
    "groupped = df.query('month in [\"12\",\"1\",\"2\"]').groupby(['director_single'])['imdb_id'].count().sort_values(ascending=False)\n",
    "print(groupped)"
   ]
  },
  {
   "cell_type": "markdown",
   "metadata": {
    "colab_type": "text",
    "id": "RBo0JVjVVqAF"
   },
   "source": [
    "# 24. Какая студия дает самые длинные названия своим фильмам по количеству символов?"
   ]
  },
  {
   "cell_type": "code",
   "execution_count": 52,
   "metadata": {
    "colab": {},
    "colab_type": "code",
    "id": "QRGS8L0iVqAG"
   },
   "outputs": [],
   "source": [
    "answers['24'] = 'Four By Two Productions'\n",
    "# +"
   ]
  },
  {
   "cell_type": "code",
   "execution_count": 53,
   "metadata": {},
   "outputs": [
    {
     "name": "stdout",
     "output_type": "stream",
     "text": [
      "company\n",
      "Four By Two Productions       83.0\n",
      "Jim Henson Company, The       59.0\n",
      "Dos Corazones                 47.0\n",
      "Museum Canada Productions     46.0\n",
      "Polsky Films                  46.0\n",
      "                              ... \n",
      "Everest Entertainment          3.0\n",
      "Berlanti Productions           3.0\n",
      "XM2 Productions                2.0\n",
      "Global Entertainment Group     2.0\n",
      "Ixtlan Productions             2.0\n",
      "Name: title_length, Length: 1771, dtype: float64\n"
     ]
    }
   ],
   "source": [
    "df = expand_filed(data, 'production_companies', 'company')\n",
    "s = df.original_title.apply(lambda x:len(x))\n",
    "s.name = 'title_length'\n",
    "df = df.join(s)\n",
    "groupped = df.groupby(['company'])['title_length'].mean().sort_values(ascending=False)\n",
    "print(groupped)"
   ]
  },
  {
   "cell_type": "markdown",
   "metadata": {
    "colab_type": "text",
    "id": "9G0hbvR7VqAK"
   },
   "source": [
    "# 25. Описание фильмов какой студии в среднем самые длинные по количеству слов?"
   ]
  },
  {
   "cell_type": "code",
   "execution_count": 54,
   "metadata": {
    "colab": {},
    "colab_type": "code",
    "id": "Ge2GsLNxVqAK"
   },
   "outputs": [],
   "source": [
    "answers['25'] = 'Midnight Picture Show'\n",
    "# +"
   ]
  },
  {
   "cell_type": "code",
   "execution_count": 55,
   "metadata": {},
   "outputs": [
    {
     "name": "stdout",
     "output_type": "stream",
     "text": [
      "company\n",
      "Midnight Picture Show                             175.0\n",
      "Room 9 Entertainment                              161.0\n",
      "98 MPH Productions                                159.0\n",
      "Heineken Branded Entertainment                    159.0\n",
      "Brookwell-McNamara Entertainment                  156.0\n",
      "                                                  ...  \n",
      "Projection Pictures                                13.0\n",
      "TDJ Enterprises / New Dimensions Entertainment     13.0\n",
      "Our Stories Films                                  13.0\n",
      "Motion Picture Corporation of America              11.0\n",
      "Empire Pictures                                    11.0\n",
      "Name: overview_word_count, Length: 1771, dtype: float64\n"
     ]
    }
   ],
   "source": [
    "df = expand_filed(data, 'production_companies', 'company')\n",
    "s = df.overview.apply(lambda x:len( re.split(' +', x) ))\n",
    "s.name = 'overview_word_count'\n",
    "df = df.join(s)\n",
    "groupped = df.groupby(['company'])['overview_word_count'].mean().sort_values(ascending=False)\n",
    "print(groupped)"
   ]
  },
  {
   "cell_type": "markdown",
   "metadata": {
    "colab_type": "text",
    "id": "FJ1AFt90VqAP"
   },
   "source": [
    "# 26. Какие фильмы входят в 1 процент лучших по рейтингу? \n",
    "по vote_average"
   ]
  },
  {
   "cell_type": "code",
   "execution_count": 56,
   "metadata": {
    "colab": {},
    "colab_type": "code",
    "id": "8qmJVq4CVqAQ"
   },
   "outputs": [],
   "source": [
    "answers['26'] = 'Inside Out, The Dark Knight, 12 Years a Slave'\n",
    "# +"
   ]
  },
  {
   "cell_type": "code",
   "execution_count": 57,
   "metadata": {},
   "outputs": [
    {
     "name": "stdout",
     "output_type": "stream",
     "text": [
      "    index  vote_average\n",
      "45    8.1      0.000529\n",
      "39    8.0      0.002118\n",
      "33    7.9      0.004764\n",
      "29    7.8      0.007411\n",
      "30    7.7      0.006882\n",
      "26    7.6      0.011117\n",
      "28    7.5      0.008999\n",
      "24    7.4      0.012176\n",
      "20    7.3      0.022763\n",
      "21    7.2      0.021175\n",
      "17    7.1      0.028587\n",
      "18    7.0      0.026998\n",
      "16    6.9      0.028587\n",
      "15    6.8      0.029645\n",
      "13    6.7      0.032822\n",
      "7     6.6      0.046585\n",
      "0     6.5      0.055585\n",
      "6     6.4      0.050291\n",
      "8     6.3      0.044468\n",
      "4     6.2      0.051350\n",
      "3     6.1      0.052938\n",
      "2     6.0      0.052938\n",
      "1     5.9      0.053467\n",
      "5     5.8      0.050821\n",
      "9     5.7      0.044468\n",
      "11    5.6      0.037057\n",
      "10    5.5      0.037586\n",
      "14    5.4      0.030175\n",
      "12    5.3      0.033351\n",
      "19    5.2      0.026998\n",
      "22    5.1      0.020116\n",
      "23    5.0      0.012705\n",
      "25    4.9      0.011646\n",
      "27    4.8      0.009529\n",
      "32    4.7      0.004764\n",
      "34    4.6      0.004764\n",
      "31    4.5      0.005823\n",
      "35    4.4      0.004235\n",
      "36    4.3      0.002647\n",
      "40    4.2      0.002118\n",
      "46    4.1      0.000529\n",
      "38    4.0      0.002118\n",
      "44    3.9      0.001059\n",
      "37    3.8      0.002118\n",
      "43    3.5      0.001059\n",
      "42    3.4      0.001059\n",
      "41    3.3      0.001059\n",
      "      vote_average                                 original_title\n",
      "599            8.1                                The Dark Knight\n",
      "9              8.0                                     Inside Out\n",
      "34             8.0                                           Room\n",
      "118            8.0                                   Interstellar\n",
      "125            8.0                             The Imitation Game\n",
      "119            7.9                        Guardians of the Galaxy\n",
      "128            7.9                                      Gone Girl\n",
      "138            7.9                       The Grand Budapest Hotel\n",
      "370            7.9                                      Inception\n",
      "872            7.9                                    The Pianist\n",
      "1081           7.9  The Lord of the Rings: The Return of the King\n",
      "1183           7.9                        The Wolf of Wall Street\n",
      "1191           7.9                               12 Years a Slave\n",
      "1800           7.9                                        Memento\n"
     ]
    }
   ],
   "source": [
    "s = data['vote_average'].value_counts(normalize=True).reset_index().sort_values(by='index', ascending=False)\n",
    "# Смотрим какой рейтинг попадает в процент лучших - это рейтинг выше 7.8\n",
    "print(s)\n",
    "ds = data.loc[(data['vote_average'] > 7.8)]\n",
    "# Выводим список фильмов с нужным рейтингом и смотрим какие в него попадают\n",
    "print( ds[['vote_average', 'original_title']].sort_values(by='vote_average', ascending=False) )"
   ]
  },
  {
   "cell_type": "markdown",
   "metadata": {
    "colab_type": "text",
    "id": "MdXsUXbCVqAV"
   },
   "source": [
    "# 27. Какие актеры чаще всего снимаются в одном фильме вместе?\n"
   ]
  },
  {
   "cell_type": "code",
   "execution_count": 58,
   "metadata": {},
   "outputs": [],
   "source": [
    "answers['27'] = 'Daniel Radcliffe & Rupert Grint'\n",
    "# +"
   ]
  },
  {
   "cell_type": "code",
   "execution_count": 59,
   "metadata": {},
   "outputs": [
    {
     "name": "stdout",
     "output_type": "stream",
     "text": [
      "actor_pairs\n",
      "Daniel Radcliffe & Rupert Grint        8\n",
      "Daniel Radcliffe & Emma Watson         8\n",
      "Emma Watson & Rupert Grint             8\n",
      "Ben Stiller & Owen Wilson              6\n",
      "Helena Bonham Carter & Johnny Depp     6\n",
      "                                      ..\n",
      "Christopher Walken & Radha Mitchell    1\n",
      "Christopher Walken & Robin Williams    1\n",
      "Christopher Walken & Rosario Dawson    1\n",
      "Christopher Walken & Sam Rockwell      1\n",
      "Zachary Quinto & Zoe Saldana           1\n",
      "Name: imdb_id, Length: 17942, dtype: int64\n"
     ]
    }
   ],
   "source": [
    "# Добавляем колонку с парами актеров, а затем группируем по их кол-ву\n",
    "def make_actors_pairs(item):\n",
    "\tpairs = []\n",
    "\tactors = item.split('|');\n",
    "\tfor actor1 in actors:\n",
    "\t\tfor actor2 in actors:\n",
    "\t\t\tif(actor1 == actor2):\n",
    "\t\t\t\tcontinue\n",
    "\t\t\tpair = [actor1, actor2]\n",
    "\t\t\tpair.sort()\n",
    "\t\t\tpair_str = ' & '.join(pair)\n",
    "\t\t\tif pair_str not in pairs:\n",
    "\t\t\t\tpairs.append(pair_str)\n",
    "\treturn pairs\n",
    "\n",
    "s = data['cast'].apply(make_actors_pairs).apply(Series, 1).stack()\n",
    "s.index = s.index.droplevel(-1)\n",
    "s.name = 'actor_pairs'\n",
    "df = data.join(s)\n",
    "groupped = df.groupby(['actor_pairs'])['imdb_id'].count().sort_values(ascending=False)\n",
    "print(groupped)"
   ]
  },
  {
   "cell_type": "markdown",
   "metadata": {
    "colab_type": "text",
    "id": "4ymnxEVoVqAW"
   },
   "source": [
    "ВАРИАНТ 2"
   ]
  },
  {
   "cell_type": "markdown",
   "metadata": {
    "colab_type": "text",
    "id": "U0nONFnGVqAX"
   },
   "source": [
    "# Submission"
   ]
  },
  {
   "cell_type": "code",
   "execution_count": 60,
   "metadata": {
    "colab": {},
    "colab_type": "code",
    "id": "IfcaRO9-VqAX",
    "outputId": "0f132912-32bb-4196-c98c-abfbc4ad5a5f"
   },
   "outputs": [
    {
     "data": {
      "text/plain": [
       "{'1': 'Pirates of the Caribbean: On Stranger Tides (tt1298650)',\n",
       " '2': 'Gods and Generals (tt0279111)',\n",
       " '3': 'Winnie the Pooh (tt1449283)',\n",
       " '4': '110',\n",
       " '5': '107',\n",
       " '6': 'Avatar (tt0499549)',\n",
       " '7': 'The Lone Ranger (tt1210819)',\n",
       " '8': '1478',\n",
       " '9': 'The Dark Knight (tt0468569)',\n",
       " '10': 'The Lone Ranger (tt1210819)',\n",
       " '11': 'Drama',\n",
       " '12': 'Drama',\n",
       " '13': 'Peter Jackson',\n",
       " '14': 'Robert Rodriguez',\n",
       " '15': 'Chris Hemsworth',\n",
       " '16': 'Matt Damon',\n",
       " '17': 'Action',\n",
       " '18': 'K-19: The Widowmaker (tt0267626)',\n",
       " '19': '2015',\n",
       " '20': '2014',\n",
       " '21': 'Сентябрь',\n",
       " '22': '450',\n",
       " '23': 'Peter Jackson',\n",
       " '24': 'Four By Two Productions',\n",
       " '25': 'Midnight Picture Show',\n",
       " '26': 'Inside Out, The Dark Knight, 12 Years a Slave',\n",
       " '27': 'Daniel Radcliffe & Rupert Grint'}"
      ]
     },
     "execution_count": 60,
     "metadata": {},
     "output_type": "execute_result"
    }
   ],
   "source": [
    "# в конце можно посмотреть свои ответы к каждому вопросу\n",
    "answers"
   ]
  },
  {
   "cell_type": "code",
   "execution_count": 61,
   "metadata": {
    "colab": {},
    "colab_type": "code",
    "id": "SiRmHPl8VqAd"
   },
   "outputs": [
    {
     "data": {
      "text/plain": [
       "27"
      ]
     },
     "execution_count": 61,
     "metadata": {},
     "output_type": "execute_result"
    }
   ],
   "source": [
    "# и убедиться что ни чего не пропустил)\n",
    "len(answers)"
   ]
  },
  {
   "cell_type": "code",
   "execution_count": null,
   "metadata": {
    "colab": {},
    "colab_type": "code",
    "id": "uCfuTkRbVqAg"
   },
   "outputs": [],
   "source": []
  },
  {
   "cell_type": "code",
   "execution_count": null,
   "metadata": {
    "colab": {},
    "colab_type": "code",
    "id": "Vwx3NrkSVqAl"
   },
   "outputs": [],
   "source": []
  }
 ],
 "metadata": {
  "colab": {
   "name": "Copy of [SF-DST] Movies IMBD v4.1 TEMPLATE.ipynb",
   "provenance": []
  },
  "kernelspec": {
   "display_name": "Python 3",
   "language": "python",
   "name": "python3"
  },
  "language_info": {
   "codemirror_mode": {
    "name": "ipython",
    "version": 3
   },
   "file_extension": ".py",
   "mimetype": "text/x-python",
   "name": "python",
   "nbconvert_exporter": "python",
   "pygments_lexer": "ipython3",
   "version": "3.9.1"
  }
 },
 "nbformat": 4,
 "nbformat_minor": 1
}
