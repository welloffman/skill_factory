{
 "cells": [
  {
   "cell_type": "markdown",
   "metadata": {},
   "source": [
    "# Загрузка Pandas и очистка данных"
   ]
  },
  {
   "cell_type": "code",
   "execution_count": 1,
   "metadata": {},
   "outputs": [],
   "source": [
    "import pandas as pd\n",
    "import numpy as np\n",
    "import re\n",
    "import datetime"
   ]
  },
  {
   "cell_type": "code",
   "execution_count": 2,
   "metadata": {},
   "outputs": [],
   "source": [
    "df = pd.read_csv('main_task_new.csv')"
   ]
  },
  {
   "cell_type": "code",
   "execution_count": 3,
   "metadata": {},
   "outputs": [
    {
     "name": "stdout",
     "output_type": "stream",
     "text": [
      "<class 'pandas.core.frame.DataFrame'>\n",
      "RangeIndex: 40000 entries, 0 to 39999\n",
      "Data columns (total 10 columns):\n",
      " #   Column             Non-Null Count  Dtype  \n",
      "---  ------             --------------  -----  \n",
      " 0   Restaurant_id      40000 non-null  object \n",
      " 1   City               40000 non-null  object \n",
      " 2   Cuisine Style      30717 non-null  object \n",
      " 3   Ranking            40000 non-null  float64\n",
      " 4   Rating             40000 non-null  float64\n",
      " 5   Price Range        26114 non-null  object \n",
      " 6   Number of Reviews  37457 non-null  float64\n",
      " 7   Reviews            40000 non-null  object \n",
      " 8   URL_TA             40000 non-null  object \n",
      " 9   ID_TA              40000 non-null  object \n",
      "dtypes: float64(3), object(7)\n",
      "memory usage: 3.1+ MB\n"
     ]
    },
    {
     "data": {
      "text/plain": [
       "$$ - $$$    18412\n",
       "$            6279\n",
       "$$$$         1423\n",
       "Name: Price Range, dtype: int64"
      ]
     },
     "execution_count": 3,
     "metadata": {},
     "output_type": "execute_result"
    }
   ],
   "source": [
    "len( df['City'].unique() )\n",
    "df['Price Range'].unique()\n",
    "df.info()\n",
    "df['Price Range'].value_counts()\n"
   ]
  },
  {
   "cell_type": "code",
   "execution_count": 4,
   "metadata": {},
   "outputs": [],
   "source": [
    "# Ваш код по очистке данных и генерации новых признаков\n",
    "# При необходимости добавьте ячейки"
   ]
  },
  {
   "cell_type": "code",
   "execution_count": 5,
   "metadata": {},
   "outputs": [],
   "source": [
    "# Обработка Price Range - приводим к числовому виду, заполняем пропуски, создаем столбец маркирующий пропуски\n",
    "def normalizePriceRange(price_range):\n",
    "    if(price_range == '$'):\n",
    "        return 1\n",
    "    \n",
    "    if(price_range == '$$ - $$$'):\n",
    "        return 2\n",
    "    \n",
    "    if(price_range == '$$$$'):\n",
    "        return 3\n",
    "    \n",
    "    \n",
    "    return 2\n",
    "\n",
    "def emptyMarker(price_range):\n",
    "    if(pd.isnull(price_range)):\n",
    "        return 1\n",
    "    return 0\n",
    "\n",
    "df['price_range'] = df['Price Range'].apply(normalizePriceRange)\n",
    "# df['empty_price_range'] = df['Price Range'].apply(emptyMarker)"
   ]
  },
  {
   "cell_type": "code",
   "execution_count": 6,
   "metadata": {},
   "outputs": [],
   "source": [
    "# Обработка городов, вычисление столбца с рейтингом по городу (вычисляется долго, надо подождать)\n",
    "\n",
    "cities = df['City'].unique()\n",
    "min_max_rankings = {}\n",
    "for city in cities:\n",
    "    min_ranking = df.loc[df['City'] == city, 'Ranking'].min()\n",
    "    max_ranking = df.loc[df['City'] == city, 'Ranking'].max()\n",
    "    item = {};\n",
    "    item['min'] = min_ranking\n",
    "    item['max'] = max_ranking\n",
    "    min_max_rankings[city] = item\n",
    "\n",
    "ds = pd.Series([], dtype='float') \n",
    "for index, row in df.iterrows():\n",
    "    min_ranking = min_max_rankings[ row['City'] ]['min']\n",
    "    max_ranking = min_max_rankings[ row['City'] ]['max']\n",
    "    \n",
    "    if(max_ranking - min_ranking == 0):\n",
    "        ds.at[index] = 0\n",
    "        continue\n",
    "    \n",
    "    ranking_by_city = (row['Ranking'] - min_ranking) / (max_ranking - min_ranking)\n",
    "    ds.at[index] = ranking_by_city\n",
    "\n",
    "df['ranking_by_city'] = ds;    "
   ]
  },
  {
   "cell_type": "code",
   "execution_count": 7,
   "metadata": {},
   "outputs": [],
   "source": [
    "# Получаем данные о кухнях\n",
    "cuisine_list = {}\n",
    "for raw_string in df['Cuisine Style']:\n",
    "    if(isinstance(raw_string, str) != True):\n",
    "        continue\n",
    "    cleared_string = raw_string.replace(\"'\", '').replace('\"', '').replace(']', '').replace('[', '').replace(' ', '')\n",
    "    items = cleared_string.split(',')\n",
    "    \n",
    "    for item in items:\n",
    "        if( isinstance(cuisine_list.get(item), int) != True ):\n",
    "            cuisine_list[item] = 0\n",
    "        cuisine_list[item] = cuisine_list[item] + 1\n",
    "        "
   ]
  },
  {
   "cell_type": "code",
   "execution_count": 8,
   "metadata": {},
   "outputs": [],
   "source": [
    "# Добавляем столбец с числом кухонь\n",
    "def countCuisineStyle(cuisine_style):\n",
    "    if(isinstance(cuisine_style, str) != True):\n",
    "        return 1\n",
    "    cleared_string = cuisine_style.replace(\"'\", '').replace('\"', '').replace(']', '').replace('[', '').replace(' ', '')\n",
    "    return len( cleared_string.split(',') )\n",
    "\n",
    "cuisine_style_count = df['Cuisine Style'].apply(countCuisineStyle)\n",
    "df['cousine_style_count'] = cuisine_style_count"
   ]
  },
  {
   "cell_type": "code",
   "execution_count": 9,
   "metadata": {},
   "outputs": [],
   "source": [
    "# Добавляем столбцы с кухнями\n",
    "def addCuisine(raw_string, c_title):\n",
    "    if(isinstance(raw_string, str) != True):\n",
    "        return 0\n",
    "    cleared_string = raw_string.replace(\"'\", '').replace('\"', '').replace(']', '').replace('[', '').replace(' ', '')\n",
    "    items = cleared_string.split(',')\n",
    "    \n",
    "    for item in items:\n",
    "        if item == c_title:\n",
    "            return 1\n",
    "        \n",
    "    return 0\n",
    "\n",
    "for c_title in cuisine_list.keys():\n",
    "    df[c_title] = df['Cuisine Style'].apply(addCuisine, args=(c_title,))"
   ]
  },
  {
   "cell_type": "code",
   "execution_count": 10,
   "metadata": {},
   "outputs": [],
   "source": [
    "# Чистка числовых столбцов\n",
    "df['Ranking'].fillna(0)\n",
    "df['Rating'].fillna(0)\n",
    "df['Number of Reviews'].fillna(0)\n",
    "\n",
    "def clearFields(item):\n",
    "    if(isinstance(item, str) == True or pd.isnull(item)):\n",
    "        return 0\n",
    "\n",
    "    return item\n",
    "\n",
    "df['Ranking'] = df['Ranking'].apply(clearFields)\n",
    "df['Rating'] = df['Rating'].apply(clearFields)\n",
    "df['Number of Reviews'] = df['Number of Reviews'].apply(clearFields)"
   ]
  },
  {
   "cell_type": "code",
   "execution_count": 11,
   "metadata": {},
   "outputs": [],
   "source": [
    "# Обработка отзывов - вычисляем частоту отзывов\n",
    "def reviewsFreq(string):\n",
    "    if(isinstance(string, str) != True):\n",
    "        return -1\n",
    "\n",
    "    m = re.findall('\\d\\d/\\d\\d/\\d\\d\\d\\d', string)\n",
    "    \n",
    "    if(len(m) < 2):\n",
    "        return -1\n",
    "    \n",
    "    date_time1 = datetime.datetime.strptime(m[0], '%m/%d/%Y')\n",
    "    date_time2 = datetime.datetime.strptime(m[1], '%m/%d/%Y')\n",
    "    \n",
    "    if(date_time1 == date_time2):\n",
    "        return 0\n",
    "    \n",
    "    days = int( str(date_time1 - date_time2).split()[0] );\n",
    "    return abs(days)\n",
    "\n",
    "reviews_freq = df['Reviews'].apply(reviewsFreq)\n",
    "\n",
    "# Заполняем пропуски средним значением\n",
    "mean = int(reviews_freq.mean())\n",
    "i = 0\n",
    "for freq in reviews_freq:\n",
    "    if(freq == -1):\n",
    "        reviews_freq[i] = mean\n",
    "    i = i + 1\n",
    "\n",
    "df['reviews_freq'] = reviews_freq"
   ]
  },
  {
   "cell_type": "code",
   "execution_count": 12,
   "metadata": {},
   "outputs": [],
   "source": [
    "df = df.drop(['City', 'Cuisine Style', 'Price Range', 'Reviews', 'URL_TA', 'ID_TA'], axis=1)"
   ]
  },
  {
   "cell_type": "markdown",
   "metadata": {},
   "source": [
    "# Разбиваем датафрейм на части, необходимые для обучения и тестирования модели"
   ]
  },
  {
   "cell_type": "code",
   "execution_count": 13,
   "metadata": {},
   "outputs": [],
   "source": [
    "# Х - данные с информацией о ресторанах, у - целевая переменная (рейтинги ресторанов)\n",
    "X = df.drop(['Restaurant_id', 'Rating'], axis = 1)\n",
    "y = df['Rating']"
   ]
  },
  {
   "cell_type": "code",
   "execution_count": 14,
   "metadata": {},
   "outputs": [],
   "source": [
    "# Загружаем специальный инструмент для разбивки:\n",
    "from sklearn.model_selection import train_test_split"
   ]
  },
  {
   "cell_type": "code",
   "execution_count": 15,
   "metadata": {},
   "outputs": [],
   "source": [
    "# Наборы данных с меткой \"train\" будут использоваться для обучения модели, \"test\" - для тестирования.\n",
    "# Для тестирования мы будем использовать 25% от исходного датасета.\n",
    "X_train, X_test, y_train, y_test = train_test_split(X, y, test_size=0.25)"
   ]
  },
  {
   "cell_type": "markdown",
   "metadata": {},
   "source": [
    "# Создаём, обучаем и тестируем модель"
   ]
  },
  {
   "cell_type": "code",
   "execution_count": 16,
   "metadata": {},
   "outputs": [],
   "source": [
    "# Импортируем необходимые библиотеки:\n",
    "from sklearn.ensemble import RandomForestRegressor # инструмент для создания и обучения модели\n",
    "from sklearn import metrics # инструменты для оценки точности модели"
   ]
  },
  {
   "cell_type": "code",
   "execution_count": 17,
   "metadata": {},
   "outputs": [],
   "source": [
    "# Создаём модель\n",
    "regr = RandomForestRegressor(n_estimators=100)\n",
    "\n",
    "# Обучаем модель на тестовом наборе данных\n",
    "regr.fit(X_train, y_train)\n",
    "\n",
    "# Используем обученную модель для предсказания рейтинга ресторанов в тестовой выборке.\n",
    "# Предсказанные значения записываем в переменную y_pred\n",
    "y_pred = regr.predict(X_test)"
   ]
  },
  {
   "cell_type": "code",
   "execution_count": 18,
   "metadata": {},
   "outputs": [
    {
     "name": "stdout",
     "output_type": "stream",
     "text": [
      "MAE: 0.2190595\n"
     ]
    }
   ],
   "source": [
    "# Сравниваем предсказанные значения (y_pred) с реальными (y_test), и смотрим насколько они в среднем отличаются\n",
    "# Метрика называется Mean Absolute Error (MAE) и показывает среднее отклонение предсказанных значений от фактических.\n",
    "print('MAE:', metrics.mean_absolute_error(y_test, y_pred))"
   ]
  },
  {
   "cell_type": "code",
   "execution_count": null,
   "metadata": {},
   "outputs": [],
   "source": []
  }
 ],
 "metadata": {
  "kernelspec": {
   "display_name": "Python 3",
   "language": "python",
   "name": "python3"
  },
  "language_info": {
   "codemirror_mode": {
    "name": "ipython",
    "version": 3
   },
   "file_extension": ".py",
   "mimetype": "text/x-python",
   "name": "python",
   "nbconvert_exporter": "python",
   "pygments_lexer": "ipython3",
   "version": "3.9.1"
  }
 },
 "nbformat": 4,
 "nbformat_minor": 2
}
